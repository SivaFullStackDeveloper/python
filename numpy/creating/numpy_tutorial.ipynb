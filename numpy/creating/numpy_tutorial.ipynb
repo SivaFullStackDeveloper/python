{
 "cells": [
  {
   "cell_type": "code",
   "execution_count": 2,
   "id": "c2d57e97-c5b3-42d2-b496-2ba47eb980be",
   "metadata": {},
   "outputs": [],
   "source": [
    "import numpy as np"
   ]
  },
  {
   "cell_type": "code",
   "execution_count": 3,
   "id": "4e020f39-bd1f-4577-a4bd-ac8e8c1ecdb5",
   "metadata": {},
   "outputs": [
    {
     "name": "stdout",
     "output_type": "stream",
     "text": [
      "helow world\n"
     ]
    }
   ],
   "source": [
    "print(\"helow world\")"
   ]
  },
  {
   "cell_type": "code",
   "execution_count": null,
   "id": "75e0ff07-a3b1-4f09-b145-5dd2fb0f889d",
   "metadata": {},
   "outputs": [],
   "source": []
  }
 ],
 "metadata": {
  "kernelspec": {
   "display_name": "Python 3 (ipykernel)",
   "language": "python",
   "name": "python3"
  },
  "language_info": {
   "codemirror_mode": {
    "name": "ipython",
    "version": 3
   },
   "file_extension": ".py",
   "mimetype": "text/x-python",
   "name": "python",
   "nbconvert_exporter": "python",
   "pygments_lexer": "ipython3",
   "version": "3.13.2"
  }
 },
 "nbformat": 4,
 "nbformat_minor": 5
}
